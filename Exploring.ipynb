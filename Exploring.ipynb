{
 "cells": [
  {
   "cell_type": "code",
   "execution_count": 2,
   "metadata": {},
   "outputs": [],
   "source": [
    "import geocoder\n",
    "from bs4 import BeautifulSoup # this module helps in web scrapping.\n",
    "import requests  # this module helps us to download a web page\n",
    "import pandas as pd\n",
    "import requests\n",
    "#!conda install -c conda-forge folium=0.5.0 --yes # uncomment this line if you haven't completed the Foursquare API lab\n",
    "import folium # map rendering library"
   ]
  },
  {
   "cell_type": "markdown",
   "metadata": {},
   "source": [
    "# Wiki data obtained from the previous notebook\n"
   ]
  },
  {
   "cell_type": "code",
   "execution_count": 3,
   "metadata": {},
   "outputs": [],
   "source": [
    "url = \"https://en.wikipedia.org/wiki/List_of_postal_codes_of_Canada:_M\"\n",
    "data  = requests.get(url).text \n",
    "soup = BeautifulSoup(data,\"html.parser\")\n",
    "wiki_data = pd.DataFrame(columns=[\"PostalCode\", \"Borough\", \"Neighborhood\"])\n",
    "for row in soup.find(\"tbody\").find_all(\"tr\"):\n",
    "    col = row.find_all(\"td\")\n",
    "    if len(col)==3:\n",
    "        PostalCode =col[0].text.replace(\"\\n\",\"\")\n",
    "        Borough = col[1].text.replace(\"\\n\",\"\")\n",
    "        Neighborhood = col[2].text.replace(\"\\n\",\"\")  \n",
    "        if Borough == \"Not assigned\":\n",
    "            continue\n",
    "        if Neighborhood == \"Not assigned\":\n",
    "            Neighborhood = Borough            \n",
    "        wiki_data = wiki_data.append({\"PostalCode\":PostalCode, \"Borough\": Borough, \"Neighborhood\":Neighborhood}, ignore_index=True)\n"
   ]
  },
  {
   "cell_type": "code",
   "execution_count": null,
   "metadata": {},
   "outputs": [],
   "source": []
  },
  {
   "cell_type": "markdown",
   "metadata": {},
   "source": [
    "# Use CSV file put in github to extract longitude and latitude"
   ]
  },
  {
   "cell_type": "code",
   "execution_count": 4,
   "metadata": {},
   "outputs": [],
   "source": [
    "url = \"https://raw.githubusercontent.com/AhmcyrCourse/Coursera_Capstone/master/Geospatial_Coordinates.csv\""
   ]
  },
  {
   "cell_type": "code",
   "execution_count": 5,
   "metadata": {},
   "outputs": [],
   "source": [
    "data_lonlat = pd.read_csv(url)"
   ]
  },
  {
   "cell_type": "code",
   "execution_count": 6,
   "metadata": {},
   "outputs": [
    {
     "data": {
      "text/html": [
       "<div>\n",
       "<style scoped>\n",
       "    .dataframe tbody tr th:only-of-type {\n",
       "        vertical-align: middle;\n",
       "    }\n",
       "\n",
       "    .dataframe tbody tr th {\n",
       "        vertical-align: top;\n",
       "    }\n",
       "\n",
       "    .dataframe thead th {\n",
       "        text-align: right;\n",
       "    }\n",
       "</style>\n",
       "<table border=\"1\" class=\"dataframe\">\n",
       "  <thead>\n",
       "    <tr style=\"text-align: right;\">\n",
       "      <th></th>\n",
       "      <th>Postal Code</th>\n",
       "      <th>Latitude</th>\n",
       "      <th>Longitude</th>\n",
       "    </tr>\n",
       "  </thead>\n",
       "  <tbody>\n",
       "    <tr>\n",
       "      <th>0</th>\n",
       "      <td>M1B</td>\n",
       "      <td>43.806686</td>\n",
       "      <td>-79.194353</td>\n",
       "    </tr>\n",
       "    <tr>\n",
       "      <th>1</th>\n",
       "      <td>M1C</td>\n",
       "      <td>43.784535</td>\n",
       "      <td>-79.160497</td>\n",
       "    </tr>\n",
       "    <tr>\n",
       "      <th>2</th>\n",
       "      <td>M1E</td>\n",
       "      <td>43.763573</td>\n",
       "      <td>-79.188711</td>\n",
       "    </tr>\n",
       "    <tr>\n",
       "      <th>3</th>\n",
       "      <td>M1G</td>\n",
       "      <td>43.770992</td>\n",
       "      <td>-79.216917</td>\n",
       "    </tr>\n",
       "    <tr>\n",
       "      <th>4</th>\n",
       "      <td>M1H</td>\n",
       "      <td>43.773136</td>\n",
       "      <td>-79.239476</td>\n",
       "    </tr>\n",
       "    <tr>\n",
       "      <th>5</th>\n",
       "      <td>M1J</td>\n",
       "      <td>43.744734</td>\n",
       "      <td>-79.239476</td>\n",
       "    </tr>\n",
       "    <tr>\n",
       "      <th>6</th>\n",
       "      <td>M1K</td>\n",
       "      <td>43.727929</td>\n",
       "      <td>-79.262029</td>\n",
       "    </tr>\n",
       "    <tr>\n",
       "      <th>7</th>\n",
       "      <td>M1L</td>\n",
       "      <td>43.711112</td>\n",
       "      <td>-79.284577</td>\n",
       "    </tr>\n",
       "    <tr>\n",
       "      <th>8</th>\n",
       "      <td>M1M</td>\n",
       "      <td>43.716316</td>\n",
       "      <td>-79.239476</td>\n",
       "    </tr>\n",
       "    <tr>\n",
       "      <th>9</th>\n",
       "      <td>M1N</td>\n",
       "      <td>43.692657</td>\n",
       "      <td>-79.264848</td>\n",
       "    </tr>\n",
       "  </tbody>\n",
       "</table>\n",
       "</div>"
      ],
      "text/plain": [
       "  Postal Code   Latitude  Longitude\n",
       "0         M1B  43.806686 -79.194353\n",
       "1         M1C  43.784535 -79.160497\n",
       "2         M1E  43.763573 -79.188711\n",
       "3         M1G  43.770992 -79.216917\n",
       "4         M1H  43.773136 -79.239476\n",
       "5         M1J  43.744734 -79.239476\n",
       "6         M1K  43.727929 -79.262029\n",
       "7         M1L  43.711112 -79.284577\n",
       "8         M1M  43.716316 -79.239476\n",
       "9         M1N  43.692657 -79.264848"
      ]
     },
     "execution_count": 6,
     "metadata": {},
     "output_type": "execute_result"
    }
   ],
   "source": [
    "data_lonlat.head(10)"
   ]
  },
  {
   "cell_type": "markdown",
   "metadata": {},
   "source": [
    "# Make sure that we extract the longitude and the latitude of the postal code in wiki_data"
   ]
  },
  {
   "cell_type": "code",
   "execution_count": 7,
   "metadata": {},
   "outputs": [],
   "source": [
    "latitude, longitude =[], []\n",
    "for l in wiki_data[\"PostalCode\"]:\n",
    "    for i,j in enumerate(data_lonlat[\"Postal Code\"]):\n",
    "        if l==j:\n",
    "            latitude.append(data_lonlat[\"Latitude\"][i]) \n",
    "            longitude.append(data_lonlat[\"Longitude\"][i]) \n",
    "\n",
    "wiki_data[\"Latitude\"] = latitude\n",
    "wiki_data[\"Longitude\"] = longitude"
   ]
  },
  {
   "cell_type": "code",
   "execution_count": 8,
   "metadata": {},
   "outputs": [
    {
     "data": {
      "text/html": [
       "<div>\n",
       "<style scoped>\n",
       "    .dataframe tbody tr th:only-of-type {\n",
       "        vertical-align: middle;\n",
       "    }\n",
       "\n",
       "    .dataframe tbody tr th {\n",
       "        vertical-align: top;\n",
       "    }\n",
       "\n",
       "    .dataframe thead th {\n",
       "        text-align: right;\n",
       "    }\n",
       "</style>\n",
       "<table border=\"1\" class=\"dataframe\">\n",
       "  <thead>\n",
       "    <tr style=\"text-align: right;\">\n",
       "      <th></th>\n",
       "      <th>PostalCode</th>\n",
       "      <th>Borough</th>\n",
       "      <th>Neighborhood</th>\n",
       "      <th>Latitude</th>\n",
       "      <th>Longitude</th>\n",
       "    </tr>\n",
       "  </thead>\n",
       "  <tbody>\n",
       "    <tr>\n",
       "      <th>0</th>\n",
       "      <td>M3A</td>\n",
       "      <td>North York</td>\n",
       "      <td>Parkwoods</td>\n",
       "      <td>43.753259</td>\n",
       "      <td>-79.329656</td>\n",
       "    </tr>\n",
       "    <tr>\n",
       "      <th>1</th>\n",
       "      <td>M4A</td>\n",
       "      <td>North York</td>\n",
       "      <td>Victoria Village</td>\n",
       "      <td>43.725882</td>\n",
       "      <td>-79.315572</td>\n",
       "    </tr>\n",
       "    <tr>\n",
       "      <th>2</th>\n",
       "      <td>M5A</td>\n",
       "      <td>Downtown Toronto</td>\n",
       "      <td>Regent Park, Harbourfront</td>\n",
       "      <td>43.654260</td>\n",
       "      <td>-79.360636</td>\n",
       "    </tr>\n",
       "    <tr>\n",
       "      <th>3</th>\n",
       "      <td>M6A</td>\n",
       "      <td>North York</td>\n",
       "      <td>Lawrence Manor, Lawrence Heights</td>\n",
       "      <td>43.718518</td>\n",
       "      <td>-79.464763</td>\n",
       "    </tr>\n",
       "    <tr>\n",
       "      <th>4</th>\n",
       "      <td>M7A</td>\n",
       "      <td>Downtown Toronto</td>\n",
       "      <td>Queen's Park, Ontario Provincial Government</td>\n",
       "      <td>43.662301</td>\n",
       "      <td>-79.389494</td>\n",
       "    </tr>\n",
       "    <tr>\n",
       "      <th>5</th>\n",
       "      <td>M9A</td>\n",
       "      <td>Etobicoke</td>\n",
       "      <td>Islington Avenue, Humber Valley Village</td>\n",
       "      <td>43.667856</td>\n",
       "      <td>-79.532242</td>\n",
       "    </tr>\n",
       "    <tr>\n",
       "      <th>6</th>\n",
       "      <td>M1B</td>\n",
       "      <td>Scarborough</td>\n",
       "      <td>Malvern, Rouge</td>\n",
       "      <td>43.806686</td>\n",
       "      <td>-79.194353</td>\n",
       "    </tr>\n",
       "    <tr>\n",
       "      <th>7</th>\n",
       "      <td>M3B</td>\n",
       "      <td>North York</td>\n",
       "      <td>Don Mills</td>\n",
       "      <td>43.745906</td>\n",
       "      <td>-79.352188</td>\n",
       "    </tr>\n",
       "    <tr>\n",
       "      <th>8</th>\n",
       "      <td>M4B</td>\n",
       "      <td>East York</td>\n",
       "      <td>Parkview Hill, Woodbine Gardens</td>\n",
       "      <td>43.706397</td>\n",
       "      <td>-79.309937</td>\n",
       "    </tr>\n",
       "    <tr>\n",
       "      <th>9</th>\n",
       "      <td>M5B</td>\n",
       "      <td>Downtown Toronto</td>\n",
       "      <td>Garden District, Ryerson</td>\n",
       "      <td>43.657162</td>\n",
       "      <td>-79.378937</td>\n",
       "    </tr>\n",
       "  </tbody>\n",
       "</table>\n",
       "</div>"
      ],
      "text/plain": [
       "  PostalCode           Borough                                 Neighborhood  \\\n",
       "0        M3A        North York                                    Parkwoods   \n",
       "1        M4A        North York                             Victoria Village   \n",
       "2        M5A  Downtown Toronto                    Regent Park, Harbourfront   \n",
       "3        M6A        North York             Lawrence Manor, Lawrence Heights   \n",
       "4        M7A  Downtown Toronto  Queen's Park, Ontario Provincial Government   \n",
       "5        M9A         Etobicoke      Islington Avenue, Humber Valley Village   \n",
       "6        M1B       Scarborough                               Malvern, Rouge   \n",
       "7        M3B        North York                                    Don Mills   \n",
       "8        M4B         East York              Parkview Hill, Woodbine Gardens   \n",
       "9        M5B  Downtown Toronto                     Garden District, Ryerson   \n",
       "\n",
       "    Latitude  Longitude  \n",
       "0  43.753259 -79.329656  \n",
       "1  43.725882 -79.315572  \n",
       "2  43.654260 -79.360636  \n",
       "3  43.718518 -79.464763  \n",
       "4  43.662301 -79.389494  \n",
       "5  43.667856 -79.532242  \n",
       "6  43.806686 -79.194353  \n",
       "7  43.745906 -79.352188  \n",
       "8  43.706397 -79.309937  \n",
       "9  43.657162 -79.378937  "
      ]
     },
     "execution_count": 8,
     "metadata": {},
     "output_type": "execute_result"
    }
   ],
   "source": [
    "wiki_data.head(10)"
   ]
  },
  {
   "cell_type": "markdown",
   "metadata": {},
   "source": [
    "# Explore and cluster the neighborhoods in Toronto and New York"
   ]
  },
  {
   "cell_type": "markdown",
   "metadata": {},
   "source": [
    "Select Only boroughs that contain the word Toronto"
   ]
  },
  {
   "cell_type": "code",
   "execution_count": 9,
   "metadata": {},
   "outputs": [
    {
     "data": {
      "text/html": [
       "<div>\n",
       "<style scoped>\n",
       "    .dataframe tbody tr th:only-of-type {\n",
       "        vertical-align: middle;\n",
       "    }\n",
       "\n",
       "    .dataframe tbody tr th {\n",
       "        vertical-align: top;\n",
       "    }\n",
       "\n",
       "    .dataframe thead th {\n",
       "        text-align: right;\n",
       "    }\n",
       "</style>\n",
       "<table border=\"1\" class=\"dataframe\">\n",
       "  <thead>\n",
       "    <tr style=\"text-align: right;\">\n",
       "      <th></th>\n",
       "      <th>PostalCode</th>\n",
       "      <th>Borough</th>\n",
       "      <th>Neighborhood</th>\n",
       "      <th>Latitude</th>\n",
       "      <th>Longitude</th>\n",
       "    </tr>\n",
       "  </thead>\n",
       "  <tbody>\n",
       "    <tr>\n",
       "      <th>0</th>\n",
       "      <td>M5A</td>\n",
       "      <td>Downtown Toronto</td>\n",
       "      <td>Regent Park, Harbourfront</td>\n",
       "      <td>43.654260</td>\n",
       "      <td>-79.360636</td>\n",
       "    </tr>\n",
       "    <tr>\n",
       "      <th>1</th>\n",
       "      <td>M7A</td>\n",
       "      <td>Downtown Toronto</td>\n",
       "      <td>Queen's Park, Ontario Provincial Government</td>\n",
       "      <td>43.662301</td>\n",
       "      <td>-79.389494</td>\n",
       "    </tr>\n",
       "    <tr>\n",
       "      <th>2</th>\n",
       "      <td>M5B</td>\n",
       "      <td>Downtown Toronto</td>\n",
       "      <td>Garden District, Ryerson</td>\n",
       "      <td>43.657162</td>\n",
       "      <td>-79.378937</td>\n",
       "    </tr>\n",
       "    <tr>\n",
       "      <th>3</th>\n",
       "      <td>M5C</td>\n",
       "      <td>Downtown Toronto</td>\n",
       "      <td>St. James Town</td>\n",
       "      <td>43.651494</td>\n",
       "      <td>-79.375418</td>\n",
       "    </tr>\n",
       "    <tr>\n",
       "      <th>4</th>\n",
       "      <td>M4E</td>\n",
       "      <td>East Toronto</td>\n",
       "      <td>The Beaches</td>\n",
       "      <td>43.676357</td>\n",
       "      <td>-79.293031</td>\n",
       "    </tr>\n",
       "  </tbody>\n",
       "</table>\n",
       "</div>"
      ],
      "text/plain": [
       "  PostalCode           Borough                                 Neighborhood  \\\n",
       "0        M5A  Downtown Toronto                    Regent Park, Harbourfront   \n",
       "1        M7A  Downtown Toronto  Queen's Park, Ontario Provincial Government   \n",
       "2        M5B  Downtown Toronto                     Garden District, Ryerson   \n",
       "3        M5C  Downtown Toronto                               St. James Town   \n",
       "4        M4E      East Toronto                                  The Beaches   \n",
       "\n",
       "    Latitude  Longitude  \n",
       "0  43.654260 -79.360636  \n",
       "1  43.662301 -79.389494  \n",
       "2  43.657162 -79.378937  \n",
       "3  43.651494 -79.375418  \n",
       "4  43.676357 -79.293031  "
      ]
     },
     "execution_count": 9,
     "metadata": {},
     "output_type": "execute_result"
    }
   ],
   "source": [
    "wiki_Toronto= wiki_data[wiki_data['Borough'].apply(lambda x: \"Toronto\" in x.split())]\n",
    "wiki_Toronto.reset_index(drop=True, inplace=True)\n",
    "wiki_Toronto.head()"
   ]
  },
  {
   "cell_type": "markdown",
   "metadata": {},
   "source": [
    "Select Only boroughs that contain the word Toronto"
   ]
  },
  {
   "cell_type": "code",
   "execution_count": 10,
   "metadata": {},
   "outputs": [
    {
     "data": {
      "text/html": [
       "<div>\n",
       "<style scoped>\n",
       "    .dataframe tbody tr th:only-of-type {\n",
       "        vertical-align: middle;\n",
       "    }\n",
       "\n",
       "    .dataframe tbody tr th {\n",
       "        vertical-align: top;\n",
       "    }\n",
       "\n",
       "    .dataframe thead th {\n",
       "        text-align: right;\n",
       "    }\n",
       "</style>\n",
       "<table border=\"1\" class=\"dataframe\">\n",
       "  <thead>\n",
       "    <tr style=\"text-align: right;\">\n",
       "      <th></th>\n",
       "      <th>PostalCode</th>\n",
       "      <th>Borough</th>\n",
       "      <th>Neighborhood</th>\n",
       "      <th>Latitude</th>\n",
       "      <th>Longitude</th>\n",
       "    </tr>\n",
       "  </thead>\n",
       "  <tbody>\n",
       "    <tr>\n",
       "      <th>0</th>\n",
       "      <td>M3A</td>\n",
       "      <td>North York</td>\n",
       "      <td>Parkwoods</td>\n",
       "      <td>43.753259</td>\n",
       "      <td>-79.329656</td>\n",
       "    </tr>\n",
       "    <tr>\n",
       "      <th>1</th>\n",
       "      <td>M4A</td>\n",
       "      <td>North York</td>\n",
       "      <td>Victoria Village</td>\n",
       "      <td>43.725882</td>\n",
       "      <td>-79.315572</td>\n",
       "    </tr>\n",
       "    <tr>\n",
       "      <th>2</th>\n",
       "      <td>M6A</td>\n",
       "      <td>North York</td>\n",
       "      <td>Lawrence Manor, Lawrence Heights</td>\n",
       "      <td>43.718518</td>\n",
       "      <td>-79.464763</td>\n",
       "    </tr>\n",
       "    <tr>\n",
       "      <th>3</th>\n",
       "      <td>M3B</td>\n",
       "      <td>North York</td>\n",
       "      <td>Don Mills</td>\n",
       "      <td>43.745906</td>\n",
       "      <td>-79.352188</td>\n",
       "    </tr>\n",
       "    <tr>\n",
       "      <th>4</th>\n",
       "      <td>M4B</td>\n",
       "      <td>East York</td>\n",
       "      <td>Parkview Hill, Woodbine Gardens</td>\n",
       "      <td>43.706397</td>\n",
       "      <td>-79.309937</td>\n",
       "    </tr>\n",
       "  </tbody>\n",
       "</table>\n",
       "</div>"
      ],
      "text/plain": [
       "  PostalCode     Borough                      Neighborhood   Latitude  \\\n",
       "0        M3A  North York                         Parkwoods  43.753259   \n",
       "1        M4A  North York                  Victoria Village  43.725882   \n",
       "2        M6A  North York  Lawrence Manor, Lawrence Heights  43.718518   \n",
       "3        M3B  North York                         Don Mills  43.745906   \n",
       "4        M4B   East York   Parkview Hill, Woodbine Gardens  43.706397   \n",
       "\n",
       "   Longitude  \n",
       "0 -79.329656  \n",
       "1 -79.315572  \n",
       "2 -79.464763  \n",
       "3 -79.352188  \n",
       "4 -79.309937  "
      ]
     },
     "execution_count": 10,
     "metadata": {},
     "output_type": "execute_result"
    }
   ],
   "source": [
    "wiki_NY= wiki_data[wiki_data['Borough'].apply(lambda x: \"York\" in x.split())]\n",
    "wiki_NY.reset_index(drop=True, inplace=True)\n",
    "wiki_NY.head()"
   ]
  },
  {
   "cell_type": "markdown",
   "metadata": {},
   "source": [
    "#### Create a map of Toronto with neighborhoods superimposed on top."
   ]
  },
  {
   "cell_type": "code",
   "execution_count": 11,
   "metadata": {},
   "outputs": [
    {
     "data": {
      "text/html": [
       "<div style=\"width:100%;\"><div style=\"position:relative;width:100%;height:0;padding-bottom:60%;\"><span style=\"color:#565656\">Make this Notebook Trusted to load map: File -> Trust Notebook</span><iframe src=\"about:blank\" style=\"position:absolute;width:100%;height:100%;left:0;top:0;border:none !important;\" data-html=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 onload=\"this.contentDocument.open();this.contentDocument.write(atob(this.getAttribute('data-html')));this.contentDocument.close();\" allowfullscreen webkitallowfullscreen mozallowfullscreen></iframe></div></div>"
      ],
      "text/plain": [
       "<folium.folium.Map at 0x27ac694de08>"
      ]
     },
     "execution_count": 11,
     "metadata": {},
     "output_type": "execute_result"
    }
   ],
   "source": [
    "# add markers to map\n",
    "map_Toronto = folium.Map(location=[wiki_Toronto['Latitude'][1], wiki_Toronto['Longitude'][1]], zoom_start=11)\n",
    "for lat, lng, neighborhood in zip(wiki_Toronto['Latitude'], wiki_Toronto['Longitude'], wiki_Toronto['Neighborhood']):\n",
    "    label = '{}'.format(neighborhood)\n",
    "    label = folium.Popup(label, parse_html=True)\n",
    "    folium.CircleMarker(\n",
    "        [lat, lng],\n",
    "        radius=5,\n",
    "        popup=label,\n",
    "        color='blue',\n",
    "        fill=True,\n",
    "        fill_color='#3186cc',\n",
    "        fill_opacity=0.7,\n",
    "        parse_html=False).add_to(map_Toronto)  \n",
    "    \n",
    "map_Toronto"
   ]
  },
  {
   "cell_type": "markdown",
   "metadata": {},
   "source": [
    "As we did with all of Toronto, let's visualizate New York the neighborhoods in it"
   ]
  },
  {
   "cell_type": "code",
   "execution_count": 12,
   "metadata": {},
   "outputs": [
    {
     "data": {
      "text/html": [
       "<div style=\"width:100%;\"><div style=\"position:relative;width:100%;height:0;padding-bottom:60%;\"><span style=\"color:#565656\">Make this Notebook Trusted to load map: File -> Trust Notebook</span><iframe src=\"about:blank\" style=\"position:absolute;width:100%;height:100%;left:0;top:0;border:none !important;\" data-html=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 onload=\"this.contentDocument.open();this.contentDocument.write(atob(this.getAttribute('data-html')));this.contentDocument.close();\" allowfullscreen webkitallowfullscreen mozallowfullscreen></iframe></div></div>"
      ],
      "text/plain": [
       "<folium.folium.Map at 0x27ac69ac248>"
      ]
     },
     "execution_count": 12,
     "metadata": {},
     "output_type": "execute_result"
    }
   ],
   "source": [
    "# add markers to map\n",
    "map_NY = folium.Map(location=[wiki_NY['Latitude'][1], wiki_NY['Longitude'][1]], zoom_start=11)\n",
    "for lat, lng, neighborhood in zip(wiki_NY['Latitude'], wiki_NY['Longitude'], wiki_NY['Neighborhood']):\n",
    "    label = '{}'.format(neighborhood)\n",
    "    label = folium.Popup(label, parse_html=True)\n",
    "    folium.CircleMarker(\n",
    "        [lat, lng],\n",
    "        radius=5,\n",
    "        popup=label,\n",
    "        color='blue',\n",
    "        fill=True,\n",
    "        fill_color='#3186cc',\n",
    "        fill_opacity=0.7,\n",
    "        parse_html=False).add_to(map_NY)  \n",
    "    \n",
    "map_NY"
   ]
  },
  {
   "cell_type": "code",
   "execution_count": null,
   "metadata": {},
   "outputs": [],
   "source": []
  }
 ],
 "metadata": {
  "kernelspec": {
   "display_name": "Python 3",
   "language": "python",
   "name": "python3"
  },
  "language_info": {
   "codemirror_mode": {
    "name": "ipython",
    "version": 3
   },
   "file_extension": ".py",
   "mimetype": "text/x-python",
   "name": "python",
   "nbconvert_exporter": "python",
   "pygments_lexer": "ipython3",
   "version": "3.7.7"
  }
 },
 "nbformat": 4,
 "nbformat_minor": 4
}
