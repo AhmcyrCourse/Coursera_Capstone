{
 "cells": [
  {
   "cell_type": "code",
   "execution_count": 13,
   "metadata": {},
   "outputs": [],
   "source": [
    "import geocoder\n",
    "from bs4 import BeautifulSoup # this module helps in web scrapping.\n",
    "import requests  # this module helps us to download a web page\n",
    "import pandas as pd\n",
    "import requests\n",
    "#!conda install -c conda-forge folium=0.5.0 --yes # uncomment this line if you haven't completed the Foursquare API lab\n",
    "import folium # map rendering library"
   ]
  },
  {
   "cell_type": "markdown",
   "metadata": {},
   "source": [
    "# Wiki data obtained from the previous notebook\n"
   ]
  },
  {
   "cell_type": "code",
   "execution_count": 14,
   "metadata": {},
   "outputs": [],
   "source": [
    "url = \"https://en.wikipedia.org/wiki/List_of_postal_codes_of_Canada:_M\"\n",
    "data  = requests.get(url).text \n",
    "soup = BeautifulSoup(data,\"html.parser\")\n",
    "wiki_data = pd.DataFrame(columns=[\"PostalCode\", \"Borough\", \"Neighborhood\"])\n",
    "for row in soup.find(\"tbody\").find_all(\"tr\"):\n",
    "    col = row.find_all(\"td\")\n",
    "    if len(col)==3:\n",
    "        PostalCode =col[0].text.replace(\"\\n\",\"\")\n",
    "        Borough = col[1].text.replace(\"\\n\",\"\")\n",
    "        Neighborhood = col[2].text.replace(\"\\n\",\"\")  \n",
    "        if Borough == \"Not assigned\":\n",
    "            continue\n",
    "        if Neighborhood == \"Not assigned\":\n",
    "            Neighborhood = Borough            \n",
    "        wiki_data = wiki_data.append({\"PostalCode\":PostalCode, \"Borough\": Borough, \"Neighborhood\":Neighborhood}, ignore_index=True)\n"
   ]
  },
  {
   "cell_type": "code",
   "execution_count": null,
   "metadata": {},
   "outputs": [],
   "source": []
  },
  {
   "cell_type": "markdown",
   "metadata": {},
   "source": [
    "# Use CSV file put in github to extract longitude and latitude"
   ]
  },
  {
   "cell_type": "code",
   "execution_count": 15,
   "metadata": {},
   "outputs": [],
   "source": [
    "url = \"https://raw.githubusercontent.com/AhmcyrCourse/Coursera_Capstone/master/Geospatial_Coordinates.csv\""
   ]
  },
  {
   "cell_type": "code",
   "execution_count": 16,
   "metadata": {},
   "outputs": [],
   "source": [
    "data_lonlat = pd.read_csv(url)"
   ]
  },
  {
   "cell_type": "code",
   "execution_count": 17,
   "metadata": {},
   "outputs": [
    {
     "data": {
      "text/html": [
       "<div>\n",
       "<style scoped>\n",
       "    .dataframe tbody tr th:only-of-type {\n",
       "        vertical-align: middle;\n",
       "    }\n",
       "\n",
       "    .dataframe tbody tr th {\n",
       "        vertical-align: top;\n",
       "    }\n",
       "\n",
       "    .dataframe thead th {\n",
       "        text-align: right;\n",
       "    }\n",
       "</style>\n",
       "<table border=\"1\" class=\"dataframe\">\n",
       "  <thead>\n",
       "    <tr style=\"text-align: right;\">\n",
       "      <th></th>\n",
       "      <th>Postal Code</th>\n",
       "      <th>Latitude</th>\n",
       "      <th>Longitude</th>\n",
       "    </tr>\n",
       "  </thead>\n",
       "  <tbody>\n",
       "    <tr>\n",
       "      <th>0</th>\n",
       "      <td>M1B</td>\n",
       "      <td>43.806686</td>\n",
       "      <td>-79.194353</td>\n",
       "    </tr>\n",
       "    <tr>\n",
       "      <th>1</th>\n",
       "      <td>M1C</td>\n",
       "      <td>43.784535</td>\n",
       "      <td>-79.160497</td>\n",
       "    </tr>\n",
       "    <tr>\n",
       "      <th>2</th>\n",
       "      <td>M1E</td>\n",
       "      <td>43.763573</td>\n",
       "      <td>-79.188711</td>\n",
       "    </tr>\n",
       "    <tr>\n",
       "      <th>3</th>\n",
       "      <td>M1G</td>\n",
       "      <td>43.770992</td>\n",
       "      <td>-79.216917</td>\n",
       "    </tr>\n",
       "    <tr>\n",
       "      <th>4</th>\n",
       "      <td>M1H</td>\n",
       "      <td>43.773136</td>\n",
       "      <td>-79.239476</td>\n",
       "    </tr>\n",
       "    <tr>\n",
       "      <th>5</th>\n",
       "      <td>M1J</td>\n",
       "      <td>43.744734</td>\n",
       "      <td>-79.239476</td>\n",
       "    </tr>\n",
       "    <tr>\n",
       "      <th>6</th>\n",
       "      <td>M1K</td>\n",
       "      <td>43.727929</td>\n",
       "      <td>-79.262029</td>\n",
       "    </tr>\n",
       "    <tr>\n",
       "      <th>7</th>\n",
       "      <td>M1L</td>\n",
       "      <td>43.711112</td>\n",
       "      <td>-79.284577</td>\n",
       "    </tr>\n",
       "    <tr>\n",
       "      <th>8</th>\n",
       "      <td>M1M</td>\n",
       "      <td>43.716316</td>\n",
       "      <td>-79.239476</td>\n",
       "    </tr>\n",
       "    <tr>\n",
       "      <th>9</th>\n",
       "      <td>M1N</td>\n",
       "      <td>43.692657</td>\n",
       "      <td>-79.264848</td>\n",
       "    </tr>\n",
       "  </tbody>\n",
       "</table>\n",
       "</div>"
      ],
      "text/plain": [
       "  Postal Code   Latitude  Longitude\n",
       "0         M1B  43.806686 -79.194353\n",
       "1         M1C  43.784535 -79.160497\n",
       "2         M1E  43.763573 -79.188711\n",
       "3         M1G  43.770992 -79.216917\n",
       "4         M1H  43.773136 -79.239476\n",
       "5         M1J  43.744734 -79.239476\n",
       "6         M1K  43.727929 -79.262029\n",
       "7         M1L  43.711112 -79.284577\n",
       "8         M1M  43.716316 -79.239476\n",
       "9         M1N  43.692657 -79.264848"
      ]
     },
     "execution_count": 17,
     "metadata": {},
     "output_type": "execute_result"
    }
   ],
   "source": [
    "data_lonlat.head(10)"
   ]
  },
  {
   "cell_type": "markdown",
   "metadata": {},
   "source": [
    "# Make sure that we extract the longitude and the latitude of the postal code in wiki_data"
   ]
  },
  {
   "cell_type": "code",
   "execution_count": 18,
   "metadata": {},
   "outputs": [],
   "source": [
    "latitude, longitude =[], []\n",
    "for l in wiki_data[\"PostalCode\"]:\n",
    "    for i,j in enumerate(data_lonlat[\"Postal Code\"]):\n",
    "        if l==j:\n",
    "            latitude.append(data_lonlat[\"Latitude\"][i]) \n",
    "            longitude.append(data_lonlat[\"Longitude\"][i]) \n",
    "\n",
    "wiki_data[\"Latitude\"] = latitude\n",
    "wiki_data[\"Longitude\"] = longitude"
   ]
  },
  {
   "cell_type": "code",
   "execution_count": 19,
   "metadata": {},
   "outputs": [
    {
     "data": {
      "text/html": [
       "<div>\n",
       "<style scoped>\n",
       "    .dataframe tbody tr th:only-of-type {\n",
       "        vertical-align: middle;\n",
       "    }\n",
       "\n",
       "    .dataframe tbody tr th {\n",
       "        vertical-align: top;\n",
       "    }\n",
       "\n",
       "    .dataframe thead th {\n",
       "        text-align: right;\n",
       "    }\n",
       "</style>\n",
       "<table border=\"1\" class=\"dataframe\">\n",
       "  <thead>\n",
       "    <tr style=\"text-align: right;\">\n",
       "      <th></th>\n",
       "      <th>PostalCode</th>\n",
       "      <th>Borough</th>\n",
       "      <th>Neighborhood</th>\n",
       "      <th>Latitude</th>\n",
       "      <th>Longitude</th>\n",
       "    </tr>\n",
       "  </thead>\n",
       "  <tbody>\n",
       "    <tr>\n",
       "      <th>0</th>\n",
       "      <td>M3A</td>\n",
       "      <td>North York</td>\n",
       "      <td>Parkwoods</td>\n",
       "      <td>43.753259</td>\n",
       "      <td>-79.329656</td>\n",
       "    </tr>\n",
       "    <tr>\n",
       "      <th>1</th>\n",
       "      <td>M4A</td>\n",
       "      <td>North York</td>\n",
       "      <td>Victoria Village</td>\n",
       "      <td>43.725882</td>\n",
       "      <td>-79.315572</td>\n",
       "    </tr>\n",
       "    <tr>\n",
       "      <th>2</th>\n",
       "      <td>M5A</td>\n",
       "      <td>Downtown Toronto</td>\n",
       "      <td>Regent Park, Harbourfront</td>\n",
       "      <td>43.654260</td>\n",
       "      <td>-79.360636</td>\n",
       "    </tr>\n",
       "    <tr>\n",
       "      <th>3</th>\n",
       "      <td>M6A</td>\n",
       "      <td>North York</td>\n",
       "      <td>Lawrence Manor, Lawrence Heights</td>\n",
       "      <td>43.718518</td>\n",
       "      <td>-79.464763</td>\n",
       "    </tr>\n",
       "    <tr>\n",
       "      <th>4</th>\n",
       "      <td>M7A</td>\n",
       "      <td>Downtown Toronto</td>\n",
       "      <td>Queen's Park, Ontario Provincial Government</td>\n",
       "      <td>43.662301</td>\n",
       "      <td>-79.389494</td>\n",
       "    </tr>\n",
       "    <tr>\n",
       "      <th>5</th>\n",
       "      <td>M9A</td>\n",
       "      <td>Etobicoke</td>\n",
       "      <td>Islington Avenue, Humber Valley Village</td>\n",
       "      <td>43.667856</td>\n",
       "      <td>-79.532242</td>\n",
       "    </tr>\n",
       "    <tr>\n",
       "      <th>6</th>\n",
       "      <td>M1B</td>\n",
       "      <td>Scarborough</td>\n",
       "      <td>Malvern, Rouge</td>\n",
       "      <td>43.806686</td>\n",
       "      <td>-79.194353</td>\n",
       "    </tr>\n",
       "    <tr>\n",
       "      <th>7</th>\n",
       "      <td>M3B</td>\n",
       "      <td>North York</td>\n",
       "      <td>Don Mills</td>\n",
       "      <td>43.745906</td>\n",
       "      <td>-79.352188</td>\n",
       "    </tr>\n",
       "    <tr>\n",
       "      <th>8</th>\n",
       "      <td>M4B</td>\n",
       "      <td>East York</td>\n",
       "      <td>Parkview Hill, Woodbine Gardens</td>\n",
       "      <td>43.706397</td>\n",
       "      <td>-79.309937</td>\n",
       "    </tr>\n",
       "    <tr>\n",
       "      <th>9</th>\n",
       "      <td>M5B</td>\n",
       "      <td>Downtown Toronto</td>\n",
       "      <td>Garden District, Ryerson</td>\n",
       "      <td>43.657162</td>\n",
       "      <td>-79.378937</td>\n",
       "    </tr>\n",
       "  </tbody>\n",
       "</table>\n",
       "</div>"
      ],
      "text/plain": [
       "  PostalCode           Borough                                 Neighborhood  \\\n",
       "0        M3A        North York                                    Parkwoods   \n",
       "1        M4A        North York                             Victoria Village   \n",
       "2        M5A  Downtown Toronto                    Regent Park, Harbourfront   \n",
       "3        M6A        North York             Lawrence Manor, Lawrence Heights   \n",
       "4        M7A  Downtown Toronto  Queen's Park, Ontario Provincial Government   \n",
       "5        M9A         Etobicoke      Islington Avenue, Humber Valley Village   \n",
       "6        M1B       Scarborough                               Malvern, Rouge   \n",
       "7        M3B        North York                                    Don Mills   \n",
       "8        M4B         East York              Parkview Hill, Woodbine Gardens   \n",
       "9        M5B  Downtown Toronto                     Garden District, Ryerson   \n",
       "\n",
       "    Latitude  Longitude  \n",
       "0  43.753259 -79.329656  \n",
       "1  43.725882 -79.315572  \n",
       "2  43.654260 -79.360636  \n",
       "3  43.718518 -79.464763  \n",
       "4  43.662301 -79.389494  \n",
       "5  43.667856 -79.532242  \n",
       "6  43.806686 -79.194353  \n",
       "7  43.745906 -79.352188  \n",
       "8  43.706397 -79.309937  \n",
       "9  43.657162 -79.378937  "
      ]
     },
     "execution_count": 19,
     "metadata": {},
     "output_type": "execute_result"
    }
   ],
   "source": [
    "wiki_data.head(10)"
   ]
  },
  {
   "cell_type": "markdown",
   "metadata": {},
   "source": [
    "# Explore and cluster the neighborhoods in Toronto and New York"
   ]
  },
  {
   "cell_type": "markdown",
   "metadata": {},
   "source": [
    "Select Only boroughs that contain the word Toronto"
   ]
  },
  {
   "cell_type": "code",
   "execution_count": 20,
   "metadata": {},
   "outputs": [
    {
     "data": {
      "text/html": [
       "<div>\n",
       "<style scoped>\n",
       "    .dataframe tbody tr th:only-of-type {\n",
       "        vertical-align: middle;\n",
       "    }\n",
       "\n",
       "    .dataframe tbody tr th {\n",
       "        vertical-align: top;\n",
       "    }\n",
       "\n",
       "    .dataframe thead th {\n",
       "        text-align: right;\n",
       "    }\n",
       "</style>\n",
       "<table border=\"1\" class=\"dataframe\">\n",
       "  <thead>\n",
       "    <tr style=\"text-align: right;\">\n",
       "      <th></th>\n",
       "      <th>PostalCode</th>\n",
       "      <th>Borough</th>\n",
       "      <th>Neighborhood</th>\n",
       "      <th>Latitude</th>\n",
       "      <th>Longitude</th>\n",
       "    </tr>\n",
       "  </thead>\n",
       "  <tbody>\n",
       "    <tr>\n",
       "      <th>0</th>\n",
       "      <td>M5A</td>\n",
       "      <td>Downtown Toronto</td>\n",
       "      <td>Regent Park, Harbourfront</td>\n",
       "      <td>43.654260</td>\n",
       "      <td>-79.360636</td>\n",
       "    </tr>\n",
       "    <tr>\n",
       "      <th>1</th>\n",
       "      <td>M7A</td>\n",
       "      <td>Downtown Toronto</td>\n",
       "      <td>Queen's Park, Ontario Provincial Government</td>\n",
       "      <td>43.662301</td>\n",
       "      <td>-79.389494</td>\n",
       "    </tr>\n",
       "    <tr>\n",
       "      <th>2</th>\n",
       "      <td>M5B</td>\n",
       "      <td>Downtown Toronto</td>\n",
       "      <td>Garden District, Ryerson</td>\n",
       "      <td>43.657162</td>\n",
       "      <td>-79.378937</td>\n",
       "    </tr>\n",
       "    <tr>\n",
       "      <th>3</th>\n",
       "      <td>M5C</td>\n",
       "      <td>Downtown Toronto</td>\n",
       "      <td>St. James Town</td>\n",
       "      <td>43.651494</td>\n",
       "      <td>-79.375418</td>\n",
       "    </tr>\n",
       "    <tr>\n",
       "      <th>4</th>\n",
       "      <td>M4E</td>\n",
       "      <td>East Toronto</td>\n",
       "      <td>The Beaches</td>\n",
       "      <td>43.676357</td>\n",
       "      <td>-79.293031</td>\n",
       "    </tr>\n",
       "  </tbody>\n",
       "</table>\n",
       "</div>"
      ],
      "text/plain": [
       "  PostalCode           Borough                                 Neighborhood  \\\n",
       "0        M5A  Downtown Toronto                    Regent Park, Harbourfront   \n",
       "1        M7A  Downtown Toronto  Queen's Park, Ontario Provincial Government   \n",
       "2        M5B  Downtown Toronto                     Garden District, Ryerson   \n",
       "3        M5C  Downtown Toronto                               St. James Town   \n",
       "4        M4E      East Toronto                                  The Beaches   \n",
       "\n",
       "    Latitude  Longitude  \n",
       "0  43.654260 -79.360636  \n",
       "1  43.662301 -79.389494  \n",
       "2  43.657162 -79.378937  \n",
       "3  43.651494 -79.375418  \n",
       "4  43.676357 -79.293031  "
      ]
     },
     "execution_count": 20,
     "metadata": {},
     "output_type": "execute_result"
    }
   ],
   "source": [
    "wiki_Toronto= wiki_data[wiki_data['Borough'].apply(lambda x: \"Toronto\" in x.split())]\n",
    "wiki_Toronto.reset_index(drop=True, inplace=True)\n",
    "wiki_Toronto.head()"
   ]
  },
  {
   "cell_type": "markdown",
   "metadata": {},
   "source": [
    "Select Only boroughs that contain the word Toronto"
   ]
  },
  {
   "cell_type": "code",
   "execution_count": 21,
   "metadata": {},
   "outputs": [
    {
     "data": {
      "text/html": [
       "<div>\n",
       "<style scoped>\n",
       "    .dataframe tbody tr th:only-of-type {\n",
       "        vertical-align: middle;\n",
       "    }\n",
       "\n",
       "    .dataframe tbody tr th {\n",
       "        vertical-align: top;\n",
       "    }\n",
       "\n",
       "    .dataframe thead th {\n",
       "        text-align: right;\n",
       "    }\n",
       "</style>\n",
       "<table border=\"1\" class=\"dataframe\">\n",
       "  <thead>\n",
       "    <tr style=\"text-align: right;\">\n",
       "      <th></th>\n",
       "      <th>PostalCode</th>\n",
       "      <th>Borough</th>\n",
       "      <th>Neighborhood</th>\n",
       "      <th>Latitude</th>\n",
       "      <th>Longitude</th>\n",
       "    </tr>\n",
       "  </thead>\n",
       "  <tbody>\n",
       "    <tr>\n",
       "      <th>0</th>\n",
       "      <td>M3A</td>\n",
       "      <td>North York</td>\n",
       "      <td>Parkwoods</td>\n",
       "      <td>43.753259</td>\n",
       "      <td>-79.329656</td>\n",
       "    </tr>\n",
       "    <tr>\n",
       "      <th>1</th>\n",
       "      <td>M4A</td>\n",
       "      <td>North York</td>\n",
       "      <td>Victoria Village</td>\n",
       "      <td>43.725882</td>\n",
       "      <td>-79.315572</td>\n",
       "    </tr>\n",
       "    <tr>\n",
       "      <th>2</th>\n",
       "      <td>M6A</td>\n",
       "      <td>North York</td>\n",
       "      <td>Lawrence Manor, Lawrence Heights</td>\n",
       "      <td>43.718518</td>\n",
       "      <td>-79.464763</td>\n",
       "    </tr>\n",
       "    <tr>\n",
       "      <th>3</th>\n",
       "      <td>M3B</td>\n",
       "      <td>North York</td>\n",
       "      <td>Don Mills</td>\n",
       "      <td>43.745906</td>\n",
       "      <td>-79.352188</td>\n",
       "    </tr>\n",
       "    <tr>\n",
       "      <th>4</th>\n",
       "      <td>M4B</td>\n",
       "      <td>East York</td>\n",
       "      <td>Parkview Hill, Woodbine Gardens</td>\n",
       "      <td>43.706397</td>\n",
       "      <td>-79.309937</td>\n",
       "    </tr>\n",
       "  </tbody>\n",
       "</table>\n",
       "</div>"
      ],
      "text/plain": [
       "  PostalCode     Borough                      Neighborhood   Latitude  \\\n",
       "0        M3A  North York                         Parkwoods  43.753259   \n",
       "1        M4A  North York                  Victoria Village  43.725882   \n",
       "2        M6A  North York  Lawrence Manor, Lawrence Heights  43.718518   \n",
       "3        M3B  North York                         Don Mills  43.745906   \n",
       "4        M4B   East York   Parkview Hill, Woodbine Gardens  43.706397   \n",
       "\n",
       "   Longitude  \n",
       "0 -79.329656  \n",
       "1 -79.315572  \n",
       "2 -79.464763  \n",
       "3 -79.352188  \n",
       "4 -79.309937  "
      ]
     },
     "execution_count": 21,
     "metadata": {},
     "output_type": "execute_result"
    }
   ],
   "source": [
    "wiki_NY= wiki_data[wiki_data['Borough'].apply(lambda x: \"York\" in x.split())]\n",
    "wiki_NY.reset_index(drop=True, inplace=True)\n",
    "wiki_NY.head()"
   ]
  },
  {
   "cell_type": "markdown",
   "metadata": {},
   "source": [
    "#### Create a map of Toronto with neighborhoods superimposed on top."
   ]
  },
  {
   "cell_type": "code",
   "execution_count": 22,
   "metadata": {},
   "outputs": [
    {
     "data": {
      "text/html": [
       "<div style=\"width:100%;\"><div style=\"position:relative;width:100%;height:0;padding-bottom:60%;\"><span style=\"color:#565656\">Make this Notebook Trusted to load map: File -> Trust Notebook</span><iframe src=\"about:blank\" style=\"position:absolute;width:100%;height:100%;left:0;top:0;border:none !important;\" data-html=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 onload=\"this.contentDocument.open();this.contentDocument.write(atob(this.getAttribute('data-html')));this.contentDocument.close();\" allowfullscreen webkitallowfullscreen mozallowfullscreen></iframe></div></div>"
      ],
      "text/plain": [
       "<folium.folium.Map at 0x27ac6bb2248>"
      ]
     },
     "execution_count": 22,
     "metadata": {},
     "output_type": "execute_result"
    }
   ],
   "source": [
    "# add markers to map\n",
    "map_Toronto = folium.Map(location=[wiki_Toronto['Latitude'][1], wiki_Toronto['Longitude'][1]], zoom_start=11)\n",
    "for lat, lng, neighborhood in zip(wiki_Toronto['Latitude'], wiki_Toronto['Longitude'], wiki_Toronto['Neighborhood']):\n",
    "    label = '{}'.format(neighborhood)\n",
    "    label = folium.Popup(label, parse_html=True)\n",
    "    folium.CircleMarker(\n",
    "        [lat, lng],\n",
    "        radius=5,\n",
    "        popup=label,\n",
    "        color='blue',\n",
    "        fill=True,\n",
    "        fill_color='#3186cc',\n",
    "        fill_opacity=0.7,\n",
    "        parse_html=False).add_to(map_Toronto)  \n",
    "    \n",
    "map_Toronto"
   ]
  },
  {
   "cell_type": "markdown",
   "metadata": {},
   "source": [
    "As we did with all of Toronto, let's visualizate New York the neighborhoods in it"
   ]
  },
  {
   "cell_type": "code",
   "execution_count": 23,
   "metadata": {},
   "outputs": [
    {
     "data": {
      "text/html": [
       "<div style=\"width:100%;\"><div style=\"position:relative;width:100%;height:0;padding-bottom:60%;\"><span style=\"color:#565656\">Make this Notebook Trusted to load map: File -> Trust Notebook</span><iframe src=\"about:blank\" style=\"position:absolute;width:100%;height:100%;left:0;top:0;border:none !important;\" data-html=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 onload=\"this.contentDocument.open();this.contentDocument.write(atob(this.getAttribute('data-html')));this.contentDocument.close();\" allowfullscreen webkitallowfullscreen mozallowfullscreen></iframe></div></div>"
      ],
      "text/plain": [
       "<folium.folium.Map at 0x27ac6c07848>"
      ]
     },
     "execution_count": 23,
     "metadata": {},
     "output_type": "execute_result"
    }
   ],
   "source": [
    "# add markers to map\n",
    "map_NY = folium.Map(location=[wiki_NY['Latitude'][1], wiki_NY['Longitude'][1]], zoom_start=11)\n",
    "for lat, lng, neighborhood in zip(wiki_NY['Latitude'], wiki_NY['Longitude'], wiki_NY['Neighborhood']):\n",
    "    label = '{}'.format(neighborhood)\n",
    "    label = folium.Popup(label, parse_html=True)\n",
    "    folium.CircleMarker(\n",
    "        [lat, lng],\n",
    "        radius=5,\n",
    "        popup=label,\n",
    "        color='blue',\n",
    "        fill=True,\n",
    "        fill_color='#3186cc',\n",
    "        fill_opacity=0.7,\n",
    "        parse_html=False).add_to(map_NY)  \n",
    "    \n",
    "map_NY"
   ]
  },
  {
   "cell_type": "code",
   "execution_count": null,
   "metadata": {},
   "outputs": [],
   "source": []
  }
 ],
 "metadata": {
  "kernelspec": {
   "display_name": "Python 3",
   "language": "python",
   "name": "python3"
  },
  "language_info": {
   "codemirror_mode": {
    "name": "ipython",
    "version": 3
   },
   "file_extension": ".py",
   "mimetype": "text/x-python",
   "name": "python",
   "nbconvert_exporter": "python",
   "pygments_lexer": "ipython3",
   "version": "3.7.7"
  }
 },
 "nbformat": 4,
 "nbformat_minor": 4
}
